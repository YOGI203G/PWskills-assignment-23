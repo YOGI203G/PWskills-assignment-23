{
 "cells": [
  {
   "cell_type": "markdown",
   "id": "23481bf9-c00f-444a-acf3-d59eb8f2e008",
   "metadata": {},
   "source": [
    "Q1. List any five functions of the pandas library with execution."
   ]
  },
  {
   "cell_type": "markdown",
   "id": "d2ea7c92-9aa9-4f62-9bbc-e309c24fa072",
   "metadata": {},
   "source": [
    "read_csv(): This function is used to read a CSV file and create a DataFrame object.\n",
    "\n",
    "head(): This function is used to display the first few rows of a DataFrame.\n",
    "\n",
    "groupby(): This function is used to group rows of a DataFrame based on one or more columns.\n",
    "\n",
    "fillna(): This function is used to replace missing values (NaN) in a DataFrame with a specified value.\n",
    "\n",
    "plot(): This function is used to create plots from data in a DataFrame."
   ]
  },
  {
   "cell_type": "markdown",
   "id": "a5905807-b946-43be-8cc3-da71a84a9045",
   "metadata": {},
   "source": [
    "Q2. Given a Pandas DataFrame df with columns 'A', 'B', and 'C', write a Python function to re-index the\n",
    "DataFrame with a new index that starts from 1 and increments by 2 for each row."
   ]
  },
  {
   "cell_type": "code",
   "execution_count": 2,
   "id": "e70bdf75-a918-4cbb-8c9b-903faa5b5f02",
   "metadata": {},
   "outputs": [],
   "source": [
    "import pandas as pd\n",
    "\n",
    "def reindex_df(df):\n",
    "    new_index = pd.RangeIndex(start=1, step=2, stop=len(df)*2)\n",
    "    return df.reindex(new_index)\n"
   ]
  },
  {
   "cell_type": "markdown",
   "id": "56d42e16-f342-4239-ad01-a2152eccb9f4",
   "metadata": {},
   "source": [
    "Q3. You have a Pandas DataFrame df with a column named 'Values'. Write a Python function that\n",
    "iterates over the DataFrame and calculates the sum of the first three values in the 'Values' column. The\n",
    "function should print the sum to the console\n",
    "\n",
    "For example, if the 'Values' column of df contains the values [10, 20, 30, 40, 50], your function should\n",
    "calculate and print the sum of the first three values, which is 60."
   ]
  },
  {
   "cell_type": "code",
   "execution_count": 6,
   "id": "ef0e0e7d-4d37-4256-b198-2390b2442d85",
   "metadata": {},
   "outputs": [
    {
     "name": "stdout",
     "output_type": "stream",
     "text": [
      "the sum of the first three values is:  60\n"
     ]
    }
   ],
   "source": [
    "import pandas as pd\n",
    "\n",
    "def sum_first_three(df):\n",
    "    values_sum = 0\n",
    "    for i in range(3):\n",
    "        values_sum += df['Values'][i]\n",
    "    print(\"the sum of the first three values is: \", values_sum)\n",
    "\n",
    "df = pd.DataFrame()\n",
    "df['Values']= [10, 20, 30, 40, 50]\n",
    "sum_first_three(df)\n",
    "    \n",
    "    "
   ]
  },
  {
   "cell_type": "markdown",
   "id": "6e95e561-cff9-440f-bacc-1c953c5b0a5a",
   "metadata": {},
   "source": [
    "Q4. Given a Pandas DataFrame df with a column 'Text', write a Python function to create a new column\n",
    "'Word_Count' that contains the number of words in each row of the 'Text' column."
   ]
  },
  {
   "cell_type": "code",
   "execution_count": 7,
   "id": "adb975a0-cb15-4444-992d-8eaabfeef46d",
   "metadata": {},
   "outputs": [
    {
     "data": {
      "text/html": [
       "<div>\n",
       "<style scoped>\n",
       "    .dataframe tbody tr th:only-of-type {\n",
       "        vertical-align: middle;\n",
       "    }\n",
       "\n",
       "    .dataframe tbody tr th {\n",
       "        vertical-align: top;\n",
       "    }\n",
       "\n",
       "    .dataframe thead th {\n",
       "        text-align: right;\n",
       "    }\n",
       "</style>\n",
       "<table border=\"1\" class=\"dataframe\">\n",
       "  <thead>\n",
       "    <tr style=\"text-align: right;\">\n",
       "      <th></th>\n",
       "      <th>Text</th>\n",
       "      <th>Word_Count</th>\n",
       "    </tr>\n",
       "  </thead>\n",
       "  <tbody>\n",
       "  </tbody>\n",
       "</table>\n",
       "</div>"
      ],
      "text/plain": [
       "Empty DataFrame\n",
       "Columns: [Text, Word_Count]\n",
       "Index: []"
      ]
     },
     "execution_count": 7,
     "metadata": {},
     "output_type": "execute_result"
    }
   ],
   "source": [
    "import pandas as pd\n",
    "\n",
    "def createNewCol(df):\n",
    "    df['Word_Count'] = []\n",
    "    return df\n",
    "\n",
    "df = pd.DataFrame()\n",
    "df[ 'Text'] = []\n",
    "createNewCol(df)   "
   ]
  },
  {
   "cell_type": "markdown",
   "id": "9be394f8-ef1c-49c6-b477-9c6cd8ddd261",
   "metadata": {},
   "source": [
    "Q5. How are DataFrame.size() and DataFrame.shape() different?"
   ]
  },
  {
   "cell_type": "markdown",
   "id": "bcc6655d-380e-48b7-b6ef-f71c0817ca02",
   "metadata": {},
   "source": [
    "DataFrame.size and DataFrame.shape are two different attributes of a pandas DataFrame object that provide different information about the DataFrame:\n",
    "\n",
    "DataFrame.size: This attribute returns the total number of elements in the DataFrame, which is equal to the product of the number of rows and columns. For example, if a DataFrame has 5 rows and 3 columns, df.size will return 15.\n",
    "\n",
    "DataFrame.shape: This attribute returns a tuple containing the number of rows and columns in the DataFrame, respectively. For example, if a DataFrame has 5 rows and 3 columns, df.shape will return (5, 3).\n",
    "\n",
    "In summary, DataFrame.size returns the total number of elements in the DataFrame, while DataFrame.shape returns the number of rows and columns as a tuple. Both attributes can be useful in different contexts depending on the information you need about the DataFrame."
   ]
  },
  {
   "cell_type": "markdown",
   "id": "3a3be58f-4474-454b-ad18-febbf7621638",
   "metadata": {},
   "source": [
    "Q6. Which function of pandas do we use to read an excel file?"
   ]
  },
  {
   "cell_type": "markdown",
   "id": "8f0d73bf-b650-499c-a295-c15103e204f3",
   "metadata": {},
   "source": [
    "read_excel()"
   ]
  },
  {
   "cell_type": "markdown",
   "id": "dceb73fa-be61-4d8f-ac39-e25e5796f527",
   "metadata": {},
   "source": [
    "Q7. You have a Pandas DataFrame df that contains a column named 'Email' that contains email\n",
    "addresses in the format 'username@domain.com'. Write a Python function that creates a new column\n",
    "'Username' in df that contains only the username part of each email address.\n",
    "\n",
    "The username is the part of the email address that appears before the '@' symbol. For example, if the\n",
    "email address is 'john.doe@example.com', the 'Username' column should contain 'john.doe'. Your\n",
    "function should extract the username from each email address and store it in the new 'Username'\n",
    "column."
   ]
  },
  {
   "cell_type": "code",
   "execution_count": 10,
   "id": "8d3c6b87-0430-434d-8c49-976633903926",
   "metadata": {},
   "outputs": [
    {
     "data": {
      "text/html": [
       "<div>\n",
       "<style scoped>\n",
       "    .dataframe tbody tr th:only-of-type {\n",
       "        vertical-align: middle;\n",
       "    }\n",
       "\n",
       "    .dataframe tbody tr th {\n",
       "        vertical-align: top;\n",
       "    }\n",
       "\n",
       "    .dataframe thead th {\n",
       "        text-align: right;\n",
       "    }\n",
       "</style>\n",
       "<table border=\"1\" class=\"dataframe\">\n",
       "  <thead>\n",
       "    <tr style=\"text-align: right;\">\n",
       "      <th></th>\n",
       "      <th>Email</th>\n",
       "      <th>Username</th>\n",
       "    </tr>\n",
       "  </thead>\n",
       "  <tbody>\n",
       "    <tr>\n",
       "      <th>0</th>\n",
       "      <td>username@domain.com</td>\n",
       "      <td>username</td>\n",
       "    </tr>\n",
       "    <tr>\n",
       "      <th>1</th>\n",
       "      <td>john.doe@example.com</td>\n",
       "      <td>john.doe</td>\n",
       "    </tr>\n",
       "  </tbody>\n",
       "</table>\n",
       "</div>"
      ],
      "text/plain": [
       "                  Email  Username\n",
       "0   username@domain.com  username\n",
       "1  john.doe@example.com  john.doe"
      ]
     },
     "execution_count": 10,
     "metadata": {},
     "output_type": "execute_result"
    }
   ],
   "source": [
    "import pandas as pd\n",
    "\n",
    "def extract_username(df):\n",
    "    df['Username'] = df['Email'].str.split('@').str[0]\n",
    "    return df\n",
    "\n",
    "df = pd.DataFrame()\n",
    "df['Email'] = ['username@domain.com', 'john.doe@example.com']\n",
    "extract_username(df)"
   ]
  },
  {
   "cell_type": "markdown",
   "id": "4fee07ff-5ec1-4f6f-b592-7cec95005084",
   "metadata": {},
   "source": [
    "Q8. You have a Pandas DataFrame df with columns 'A', 'B', and 'C'. Write a Python function that selects\n",
    "all rows where the value in column 'A' is greater than 5 and the value in column 'B' is less than 10. The\n",
    "function should return a new DataFrame that contains only the selected rows.\n",
    "\n",
    "For example, if df contains the following values:\n",
    "    \n",
    "\n",
    "   A   B   C\n",
    "\n",
    "0  3   5   1\n",
    "\n",
    "1  8   2   7\n",
    "\n",
    "2  6   9   4\n",
    "\n",
    "3  2   3   5\n",
    "\n",
    "4  9   1   2\n",
    "\n",
    "\n",
    "Your function should select the following rows:   A   B   C\n",
    "\n",
    "\n",
    "1  8   2   7\n",
    "\n",
    "4  9   1   2\n",
    "\n",
    "\n",
    "The function should return a new DataFrame that contains only the selected rows."
   ]
  },
  {
   "cell_type": "code",
   "execution_count": 13,
   "id": "dec11550-8c53-4244-b4cf-d654278d63ac",
   "metadata": {},
   "outputs": [
    {
     "name": "stdout",
     "output_type": "stream",
     "text": [
      "   A  B  C\n",
      "1  8  2  7\n",
      "2  6  9  4\n",
      "4  9  1  2\n"
     ]
    }
   ],
   "source": [
    "import pandas as pd\n",
    "\n",
    "def select_rows(df):\n",
    "    selected_rows = df[(df['A']>5) & (df['B']<10)]\n",
    "    return selected_rows \n",
    "\n",
    "def main():\n",
    "    data = {'A': [3, 8, 6, 2, 9], 'B': [5, 2, 9, 3, 1], 'C': [1, 7, 4, 5, 2]}\n",
    "    df = pd.DataFrame(data)\n",
    "    \n",
    "    selected_df = select_rows(df)\n",
    "    \n",
    "    print(selected_df)\n",
    "    \n",
    "if __name__ == \"__main__\":\n",
    "    \n",
    "    main()\n",
    "    \n"
   ]
  },
  {
   "cell_type": "markdown",
   "id": "3155cca8-c340-4cad-8953-cf82874b317e",
   "metadata": {},
   "source": [
    "Q9. Given a Pandas DataFrame df with a column 'Values', write a Python function to calculate the mean,\n",
    "median, and standard deviation of the values in the 'Values' column."
   ]
  },
  {
   "cell_type": "code",
   "execution_count": 15,
   "id": "3572081f-0c89-4abf-aa66-660065b64100",
   "metadata": {},
   "outputs": [
    {
     "name": "stdout",
     "output_type": "stream",
     "text": [
      "Mean: 40.0, Median: 40.0, Standard deviation: 15.811388300841896\n"
     ]
    }
   ],
   "source": [
    "import pandas as pd\n",
    "\n",
    "def calculate_stats(df):\n",
    "    mean = df['Values'].mean()\n",
    "    median = df['Values'].median()\n",
    "    std = df['Values'].std()\n",
    "    return mean , median , std\n",
    "df = pd.DataFrame()\n",
    "df['Values'] = [20,30,40,50,60]\n",
    "result = calculate_stats(df)\n",
    "mean = result[0]\n",
    "median = result[1]\n",
    "std = result[2]\n",
    "print(\"Mean:\",str(mean)+ \", Median:\",str(median)+ \", Standard deviation:\",str(std))\n"
   ]
  },
  {
   "cell_type": "markdown",
   "id": "22b0bc1e-5c77-4932-9388-b14e9b427e47",
   "metadata": {},
   "source": [
    "Q10. Given a Pandas DataFrame df with a column 'Sales' and a column 'Date', write a Python function to\n",
    "create a new column 'MovingAverage' that contains the moving average of the sales for the past 7 days\n",
    "for each row in the DataFrame. The moving average should be calculated using a window of size 7 and\n",
    "should include the current day."
   ]
  },
  {
   "cell_type": "code",
   "execution_count": 16,
   "id": "5a5cdb23-1ccb-43c9-9751-b0644acff4e0",
   "metadata": {},
   "outputs": [],
   "source": [
    "import pandas as pd\n",
    "\n",
    "def add_moving_average(df):\n",
    "    rolling_sales = df['Sales'].rolling(window=7)\n",
    "    \n",
    "    moving_average = rolling_sales.mean()\n",
    "    \n",
    "    df['MovingAverage'] =  moving_average \n",
    "    \n",
    "    return df"
   ]
  },
  {
   "cell_type": "markdown",
   "id": "d58842a3-5741-49d6-8571-0d9520553c0a",
   "metadata": {},
   "source": [
    "Q11. You have a Pandas DataFrame df with a column 'Date'. Write a Python function that creates a new\n",
    "column 'Weekday' in the DataFrame. The 'Weekday' column should contain the weekday name (e.g.\n",
    "Monday, Tuesday) corresponding to each date in the 'Date' column.\n",
    "\n",
    "For example, if df contains the following values:\n",
    "\n",
    "         Date\n",
    "\n",
    "0  2023-01-01\n",
    "\n",
    "1  2023-01-02\n",
    "\n",
    "2  2023-01-03\n",
    "\n",
    "3  2023-01-04\n",
    "\n",
    "4  2023-01-05\n",
    "\n",
    "Your function should create the following DataFrame:\n",
    "\n",
    "\n",
    "         Date    Weekday\n",
    "\n",
    "0  2023-01-01    Sunday\n",
    "\n",
    "1  2023-01-02     Monday\n",
    "\n",
    "2  2023-01-03    Tuesday\n",
    "\n",
    "3  2023-01-04    Wednesday\n",
    "\n",
    "4  2023-01-05    Thursday\n",
    "\n",
    "The function should return the modified DataFrame."
   ]
  },
  {
   "cell_type": "code",
   "execution_count": 21,
   "id": "3d65c674-50cf-42c4-90b3-fec6e6f9c845",
   "metadata": {},
   "outputs": [
    {
     "name": "stdout",
     "output_type": "stream",
     "text": [
      "        Date    Weekday\n",
      "0 2023-01-01     Sunday\n",
      "1 2023-01-02     Monday\n",
      "2 2023-01-03    Tuesday\n",
      "3 2023-01-04  Wednesday\n",
      "4 2023-01-05   Thursday\n"
     ]
    }
   ],
   "source": [
    "import pandas as pd\n",
    "\n",
    "def add_weekdays(df):\n",
    "    df['Date'] = pd.to_datetime(df['Date'])\n",
    "    df['Weekday'] = df['Date'].dt.day_name()\n",
    "    return df\n",
    "\n",
    "def main():\n",
    "    df = pd.DataFrame({'Date': ['2023-01-01', '2023-01-02', '2023-01-03', '2023-01-04', '2023-01-05']})\n",
    "    df = add_weekdays(df)\n",
    "    print(df)\n",
    "\n",
    "if __name__ == '__main__':\n",
    "    main()\n"
   ]
  },
  {
   "cell_type": "markdown",
   "id": "cb6f6d55-0b89-47c0-90ef-aea3c397f6d0",
   "metadata": {},
   "source": [
    "Q12. Given a Pandas DataFrame df with a column 'Date' that contains timestamps, write a Python\n",
    "function to select all rows where the date is between '2023-01-01' and '2023-01-31'."
   ]
  },
  {
   "cell_type": "code",
   "execution_count": 22,
   "id": "8a2167b5-09ed-4548-bfea-833ef2eb1810",
   "metadata": {},
   "outputs": [
    {
     "name": "stdout",
     "output_type": "stream",
     "text": [
      "Original DataFrame:\n",
      "         Date\n",
      "0  2022-12-31\n",
      "1  2023-01-01\n",
      "2  2023-01-15\n",
      "3  2023-01-31\n",
      "4  2023-02-15\n",
      "\n",
      "DataFrame with January dates only:\n",
      "        Date\n",
      "1 2023-01-01\n",
      "2 2023-01-15\n",
      "3 2023-01-31\n"
     ]
    }
   ],
   "source": [
    "import pandas as pd\n",
    "\n",
    "\n",
    "def select_january_dates(df):\n",
    "    df['Date'] = pd.to_datetime(df['Date'])\n",
    "    start_date = '2023-01-01'\n",
    "    end_date = '2023-01-31'\n",
    "    mask = (df['Date'] >= start_date) & (df['Date'] <= end_date)\n",
    "    return df.loc[mask]\n",
    "\n",
    "def main():\n",
    "    df = pd.DataFrame({'Date': ['2022-12-31', '2023-01-01', '2023-01-15', '2023-01-31', '2023-02-15']})\n",
    "    print(\"Original DataFrame:\")\n",
    "    print(df)\n",
    "    df = select_january_dates(df)\n",
    "    print(\"\\nDataFrame with January dates only:\")\n",
    "    print(df)\n",
    "\n",
    "if __name__ == '__main__':\n",
    "    main()"
   ]
  },
  {
   "cell_type": "markdown",
   "id": "5e207939-4a91-4ec1-9fe6-a39d945313ea",
   "metadata": {},
   "source": [
    "Q13. To use the basic functions of pandas, what is the first and foremost necessary library that needs to\n",
    "be imported?"
   ]
  },
  {
   "cell_type": "markdown",
   "id": "c75bd6dd-838b-4ac7-8bf9-e2afd8e86aad",
   "metadata": {},
   "source": [
    "import pandas as pd"
   ]
  },
  {
   "cell_type": "code",
   "execution_count": null,
   "id": "815eaab5-0cd0-4ea5-991c-90d3d9082b0d",
   "metadata": {},
   "outputs": [],
   "source": []
  }
 ],
 "metadata": {
  "kernelspec": {
   "display_name": "Python 3 (ipykernel)",
   "language": "python",
   "name": "python3"
  },
  "language_info": {
   "codemirror_mode": {
    "name": "ipython",
    "version": 3
   },
   "file_extension": ".py",
   "mimetype": "text/x-python",
   "name": "python",
   "nbconvert_exporter": "python",
   "pygments_lexer": "ipython3",
   "version": "3.10.8"
  }
 },
 "nbformat": 4,
 "nbformat_minor": 5
}
